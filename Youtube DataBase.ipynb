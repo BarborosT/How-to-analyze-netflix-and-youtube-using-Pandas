{
 "cells": [
  {
   "cell_type": "code",
   "execution_count": 2,
   "metadata": {},
   "outputs": [
    {
     "name": "stdout",
     "output_type": "stream",
     "text": [
      "      video_id trending_date  \\\n",
      "0  Jw1Y-zhQURU      17.14.11   \n",
      "1  3s1rvMFUweQ      17.14.11   \n",
      "2  n1WpP7iowLc      17.14.11   \n",
      "3  PUTEiSjKwJU      17.14.11   \n",
      "4  rHwDegptbI4      17.14.11   \n",
      "5  AumaWl0TNBo      17.14.11   \n",
      "6  2Vv-BfVoq4g      17.14.11   \n",
      "7  -N5eucPMTTc      17.14.11   \n",
      "8  LMCuKltaY3M      17.14.11   \n",
      "9  9t9u_yPEidY      17.14.11   \n",
      "\n",
      "                                               title  \\\n",
      "0      John Lewis Christmas Ad 2017 - #MozTheMonster   \n",
      "1          Taylor Swift: …Ready for It? (Live) - SNL   \n",
      "2         Eminem - Walk On Water (Audio) ft. Beyoncé   \n",
      "3  Goals from Salford City vs Class of 92 and Fri...   \n",
      "4  Dashcam captures truck's near miss with child ...   \n",
      "5                       How My Relationship Started!   \n",
      "6        Ed Sheeran - Perfect (Official Music Video)   \n",
      "7                      CHRISTMAS HAS GONE TO MY HEAD   \n",
      "8   Elbow - Golden Slumbers (John Lewis Advert 2017)   \n",
      "9  Jennifer Lopez - Amor, Amor, Amor (Official Vi...   \n",
      "\n",
      "                channel_title  category_id              publish_time  \\\n",
      "0                  John Lewis           26  2017-11-10T07:38:29.000Z   \n",
      "1         Saturday Night Live           24  2017-11-12T06:24:44.000Z   \n",
      "2                  EminemVEVO           10  2017-11-10T17:00:03.000Z   \n",
      "3  Salford City Football Club           17  2017-11-13T02:30:38.000Z   \n",
      "4            Cute Girl Videos           25  2017-11-13T01:45:13.000Z   \n",
      "5          PointlessBlogVlogs           24  2017-11-11T17:00:00.000Z   \n",
      "6                  Ed Sheeran           10  2017-11-09T11:04:14.000Z   \n",
      "7                  MoreZoella           22  2017-11-10T19:19:43.000Z   \n",
      "8                   ElbowVEVO           10  2017-11-10T08:00:01.000Z   \n",
      "9           JenniferLopezVEVO           10  2017-11-10T15:00:00.000Z   \n",
      "\n",
      "                                                tags     views    likes  \\\n",
      "0  christmas|\"john lewis christmas\"|\"john lewis\"|...   7224515    55681   \n",
      "1  SNL|\"Saturday Night Live\"|\"SNL Season 43\"|\"Epi...   1053632    25561   \n",
      "2  Eminem|\"Walk\"|\"On\"|\"Water\"|\"Aftermath/Shady/In...  17158579   787420   \n",
      "3  Salford City FC|\"Salford City\"|\"Salford\"|\"Clas...     27833      193   \n",
      "4                                             [none]      9815       30   \n",
      "5  pointlessblog|\"pointlessblogtv\"|\"pointlessblog...   1182775    52708   \n",
      "6  edsheeran|\"ed sheeran\"|\"acoustic\"|\"live\"|\"cove...  33523622  1634124   \n",
      "7  zoe sugg|\"zoella\"|\"zoe\"|\"vlog\"|\"vlogging\"|\"vlo...   1164201    57309   \n",
      "8  Elbow|\"Golden\"|\"Slumbers\"|\"Polydor\"|\"Alternative\"    154494     2163   \n",
      "9  Jennifer Lopez ft. Wisin|\"Jennifer Lopez ft. W...   9548677   190084   \n",
      "\n",
      "   dislikes  comment_count                                  thumbnail_link  \\\n",
      "0     10247           9479  https://i.ytimg.com/vi/Jw1Y-zhQURU/default.jpg   \n",
      "1      2294           2757  https://i.ytimg.com/vi/3s1rvMFUweQ/default.jpg   \n",
      "2     43420         125882  https://i.ytimg.com/vi/n1WpP7iowLc/default.jpg   \n",
      "3        12             37  https://i.ytimg.com/vi/PUTEiSjKwJU/default.jpg   \n",
      "4         2             30  https://i.ytimg.com/vi/rHwDegptbI4/default.jpg   \n",
      "5      1431           2333  https://i.ytimg.com/vi/AumaWl0TNBo/default.jpg   \n",
      "6     21082          85067  https://i.ytimg.com/vi/2Vv-BfVoq4g/default.jpg   \n",
      "7       749            624  https://i.ytimg.com/vi/-N5eucPMTTc/default.jpg   \n",
      "8       147            211  https://i.ytimg.com/vi/LMCuKltaY3M/default.jpg   \n",
      "9     15015          11473  https://i.ytimg.com/vi/9t9u_yPEidY/default.jpg   \n",
      "\n",
      "   comments_disabled  ratings_disabled  video_error_or_removed  \\\n",
      "0              False             False                   False   \n",
      "1              False             False                   False   \n",
      "2              False             False                   False   \n",
      "3              False             False                   False   \n",
      "4              False             False                   False   \n",
      "5              False             False                   False   \n",
      "6              False             False                   False   \n",
      "7              False             False                   False   \n",
      "8              False             False                   False   \n",
      "9              False             False                   False   \n",
      "\n",
      "                                         description  \n",
      "0  Click here to continue the story and make your...  \n",
      "1  Musical guest Taylor Swift performs …Ready for...  \n",
      "2  Eminem's new track Walk on Water ft. Beyoncé i...  \n",
      "3  Salford drew 4-4 against the Class of 92 and F...  \n",
      "4  Dashcam captures truck's near miss with child ...  \n",
      "5  ► HOW MY RELATIONSHIP STARTED!\\n► PB Merch • h...  \n",
      "6  🎧: https://ad.gt/yt-perfect\\n💰: https://atlant...  \n",
      "7  CHRISTMAS HAS GONE TO MY HEAD\\nPrevious Vlog: ...  \n",
      "8  “Golden Slumbers”, originally by The Beatles, ...  \n",
      "9  Jennifer Lopez ft. Wisin - Amor, Amor, Amor (O...  \n"
     ]
    }
   ],
   "source": [
    "import pandas as pd\n",
    "\n",
    "df = pd.read_csv(\"GBvideos.csv\")\n",
    "print(df.head(10))"
   ]
  },
  {
   "cell_type": "code",
   "execution_count": 3,
   "metadata": {},
   "outputs": [
    {
     "name": "stdout",
     "output_type": "stream",
     "text": [
      "       video_id trending_date  \\\n",
      "2   n1WpP7iowLc      17.14.11   \n",
      "3   PUTEiSjKwJU      17.14.11   \n",
      "4   rHwDegptbI4      17.14.11   \n",
      "5   AumaWl0TNBo      17.14.11   \n",
      "6   2Vv-BfVoq4g      17.14.11   \n",
      "7   -N5eucPMTTc      17.14.11   \n",
      "8   LMCuKltaY3M      17.14.11   \n",
      "9   9t9u_yPEidY      17.14.11   \n",
      "10  ONQ-fAp5X64      17.14.11   \n",
      "11  Dlwf5u2BLAg      17.14.11   \n",
      "\n",
      "                                                title  \\\n",
      "2          Eminem - Walk On Water (Audio) ft. Beyoncé   \n",
      "3   Goals from Salford City vs Class of 92 and Fri...   \n",
      "4   Dashcam captures truck's near miss with child ...   \n",
      "5                        How My Relationship Started!   \n",
      "6         Ed Sheeran - Perfect (Official Music Video)   \n",
      "7                       CHRISTMAS HAS GONE TO MY HEAD   \n",
      "8    Elbow - Golden Slumbers (John Lewis Advert 2017)   \n",
      "9   Jennifer Lopez - Amor, Amor, Amor (Official Vi...   \n",
      "10        CAN BABIES DO GYMNASTICS?  **World Record**   \n",
      "11  TV Reporter Interviews Alleged Bank Robber, Th...   \n",
      "\n",
      "                 channel_title  category_id              publish_time  \\\n",
      "2                   EminemVEVO           10  2017-11-10T17:00:03.000Z   \n",
      "3   Salford City Football Club           17  2017-11-13T02:30:38.000Z   \n",
      "4             Cute Girl Videos           25  2017-11-13T01:45:13.000Z   \n",
      "5           PointlessBlogVlogs           24  2017-11-11T17:00:00.000Z   \n",
      "6                   Ed Sheeran           10  2017-11-09T11:04:14.000Z   \n",
      "7                   MoreZoella           22  2017-11-10T19:19:43.000Z   \n",
      "8                    ElbowVEVO           10  2017-11-10T08:00:01.000Z   \n",
      "9            JenniferLopezVEVO           10  2017-11-10T15:00:00.000Z   \n",
      "10                 Nile Wilson           17  2017-11-11T10:30:00.000Z   \n",
      "11              Inside Edition           25  2017-11-10T01:40:07.000Z   \n",
      "\n",
      "                                                 tags     views    likes  \\\n",
      "2   Eminem|\"Walk\"|\"On\"|\"Water\"|\"Aftermath/Shady/In...  17158579   787420   \n",
      "3   Salford City FC|\"Salford City\"|\"Salford\"|\"Clas...     27833      193   \n",
      "4                                              [none]      9815       30   \n",
      "5   pointlessblog|\"pointlessblogtv\"|\"pointlessblog...   1182775    52708   \n",
      "6   edsheeran|\"ed sheeran\"|\"acoustic\"|\"live\"|\"cove...  33523622  1634124   \n",
      "7   zoe sugg|\"zoella\"|\"zoe\"|\"vlog\"|\"vlogging\"|\"vlo...   1164201    57309   \n",
      "8   Elbow|\"Golden\"|\"Slumbers\"|\"Polydor\"|\"Alternative\"    154494     2163   \n",
      "9   Jennifer Lopez ft. Wisin|\"Jennifer Lopez ft. W...   9548677   190084   \n",
      "10  nile wilson|\"nile wilson gymnastics\"|\"nile wil...    306724     9591   \n",
      "11  reporter|\"robbery\"|\"Crime\"|\"cat-news\"|\"police\"...    254314     1746   \n",
      "\n",
      "    dislikes  comment_count                                  thumbnail_link  \\\n",
      "2      43420         125882  https://i.ytimg.com/vi/n1WpP7iowLc/default.jpg   \n",
      "3         12             37  https://i.ytimg.com/vi/PUTEiSjKwJU/default.jpg   \n",
      "4          2             30  https://i.ytimg.com/vi/rHwDegptbI4/default.jpg   \n",
      "5       1431           2333  https://i.ytimg.com/vi/AumaWl0TNBo/default.jpg   \n",
      "6      21082          85067  https://i.ytimg.com/vi/2Vv-BfVoq4g/default.jpg   \n",
      "7        749            624  https://i.ytimg.com/vi/-N5eucPMTTc/default.jpg   \n",
      "8        147            211  https://i.ytimg.com/vi/LMCuKltaY3M/default.jpg   \n",
      "9      15015          11473  https://i.ytimg.com/vi/9t9u_yPEidY/default.jpg   \n",
      "10       266            448  https://i.ytimg.com/vi/ONQ-fAp5X64/default.jpg   \n",
      "11       125            298  https://i.ytimg.com/vi/Dlwf5u2BLAg/default.jpg   \n",
      "\n",
      "    comments_disabled  ratings_disabled  video_error_or_removed  \\\n",
      "2               False             False                   False   \n",
      "3               False             False                   False   \n",
      "4               False             False                   False   \n",
      "5               False             False                   False   \n",
      "6               False             False                   False   \n",
      "7               False             False                   False   \n",
      "8               False             False                   False   \n",
      "9               False             False                   False   \n",
      "10              False             False                   False   \n",
      "11              False             False                   False   \n",
      "\n",
      "                                          description  \n",
      "2   Eminem's new track Walk on Water ft. Beyoncé i...  \n",
      "3   Salford drew 4-4 against the Class of 92 and F...  \n",
      "4   Dashcam captures truck's near miss with child ...  \n",
      "5   ► HOW MY RELATIONSHIP STARTED!\\n► PB Merch • h...  \n",
      "6   🎧: https://ad.gt/yt-perfect\\n💰: https://atlant...  \n",
      "7   CHRISTMAS HAS GONE TO MY HEAD\\nPrevious Vlog: ...  \n",
      "8   “Golden Slumbers”, originally by The Beatles, ...  \n",
      "9   Jennifer Lopez ft. Wisin - Amor, Amor, Amor (O...  \n",
      "10  ➢ Join my FREE 7 Steps to Success - http://www...  \n",
      "11  More from Inside Edition: https://www.youtube....  \n"
     ]
    }
   ],
   "source": [
    "#İkinciden sonra gelen ilk 10 youtube videousu ekrana getir.\n",
    "result =df[2:].head(10) \n",
    "print(result)"
   ]
  },
  {
   "cell_type": "code",
   "execution_count": 4,
   "metadata": {
    "scrolled": true
   },
   "outputs": [
    {
     "name": "stdout",
     "output_type": "stream",
     "text": [
      "Index(['video_id', 'trending_date', 'title', 'channel_title', 'category_id',\n",
      "       'publish_time', 'tags', 'views', 'likes', 'dislikes', 'comment_count',\n",
      "       'thumbnail_link', 'comments_disabled', 'ratings_disabled',\n",
      "       'video_error_or_removed', 'description'],\n",
      "      dtype='object')\n"
     ]
    }
   ],
   "source": [
    "#sütunları görmek için kullanılır.\n",
    "result = df.columns\n",
    "print(result)"
   ]
  },
  {
   "cell_type": "code",
   "execution_count": 5,
   "metadata": {
    "scrolled": true
   },
   "outputs": [
    {
     "name": "stdout",
     "output_type": "stream",
     "text": [
      "38916\n"
     ]
    }
   ],
   "source": [
    "#Toplam kaç tane öüzik olduğunu öğrenmek için kullanılır\n",
    "result = len(df.index)\n",
    "print(result) "
   ]
  },
  {
   "cell_type": "code",
   "execution_count": 6,
   "metadata": {},
   "outputs": [],
   "source": [
    "df =df.drop([\"video_error_or_removed\",\"comments_disabled\",\"ratings_disabled\",\"thumbnail_link\",\"video_id\"],axis =1,inplace=True)\n",
    "result=df\n",
    "#print(result)"
   ]
  },
  {
   "cell_type": "code",
   "execution_count": 7,
   "metadata": {},
   "outputs": [
    {
     "name": "stdout",
     "output_type": "stream",
     "text": [
      "7612.559975331483\n"
     ]
    }
   ],
   "source": [
    "#Likes ve Dislikes  ortalaması bul\n",
    "result = df[\"likes\"].mean()\n",
    "result = df[\"dislikes\"].mean()\n",
    "print(result)"
   ]
  },
  {
   "cell_type": "code",
   "execution_count": 8,
   "metadata": {},
   "outputs": [
    {
     "name": "stdout",
     "output_type": "stream",
     "text": [
      "     likes  dislikes\n",
      "0    55681     10247\n",
      "1    25561      2294\n",
      "2   787420     43420\n",
      "3      193        12\n",
      "4       30         2\n",
      "5    52708      1431\n",
      "6  1634124     21082\n",
      "7    57309       749\n",
      "8     2163       147\n",
      "9   190084     15015\n"
     ]
    }
   ],
   "source": [
    "#İlk 10 videonun like ve dilike indexlerini getir.\n",
    "result = df.head(10)[[\"likes\",\"dislikes\"]]\n",
    "print(result)"
   ]
  },
  {
   "cell_type": "code",
   "execution_count": 9,
   "metadata": {},
   "outputs": [
    {
     "name": "stdout",
     "output_type": "stream",
     "text": [
      "                                                   title      views\n",
      "28412  Nicky Jam x J. Balvin - X (EQUIS) | Video Ofic...  424538912\n"
     ]
    }
   ],
   "source": [
    "#En fazla izlenen video hangisi olduğunu gösteriyor.\n",
    "result = df[df[\"views\"].max() == df[\"views\"]][[\"title\",\"views\"]]\n",
    "print(result)"
   ]
  },
  {
   "cell_type": "code",
   "execution_count": 10,
   "metadata": {},
   "outputs": [
    {
     "name": "stdout",
     "output_type": "stream",
     "text": [
      "                                                  title  views\n",
      "3477  Mountain Bikers Worried About Military Land Be...    851\n"
     ]
    }
   ],
   "source": [
    "result = df[df[\"views\"].min()== df[\"views\"]][[\"title\",\"views\"]]\n",
    "print(result)"
   ]
  },
  {
   "cell_type": "code",
   "execution_count": 15,
   "metadata": {},
   "outputs": [
    {
     "name": "stdout",
     "output_type": "stream",
     "text": [
      "                                                   title      views\n",
      "28412  Nicky Jam x J. Balvin - X (EQUIS) | Video Ofic...  424538912\n",
      "28212  Nicky Jam x J. Balvin - X (EQUIS) | Video Ofic...  413586699\n",
      "28008  Nicky Jam x J. Balvin - X (EQUIS) | Video Ofic...  402650804\n",
      "27811  Nicky Jam x J. Balvin - X (EQUIS) | Video Ofic...  392036878\n",
      "27615  Nicky Jam x J. Balvin - X (EQUIS) | Video Ofic...  382401497\n",
      "27424  Nicky Jam x J. Balvin - X (EQUIS) | Video Ofic...  372399338\n",
      "27241  Nicky Jam x J. Balvin - X (EQUIS) | Video Ofic...  362111555\n",
      "27052  Nicky Jam x J. Balvin - X (EQUIS) | Video Ofic...  349987176\n",
      "26861  Nicky Jam x J. Balvin - X (EQUIS) | Video Ofic...  339629489\n",
      "34460  Te Bote Remix - Casper, Nio García, Darell, Ni...  337621571\n"
     ]
    }
   ],
   "source": [
    "#En fazla görüntüleme alan il 10 video al.\n",
    "result = df.sort_values(\"views\",ascending = False).head(10)[[\"title\",\"views\"]]\n",
    "print(result)"
   ]
  },
  {
   "cell_type": "code",
   "execution_count": 12,
   "metadata": {},
   "outputs": [
    {
     "name": "stdout",
     "output_type": "stream",
     "text": [
      "video_id\n",
      "v4DFeT9z7yY    0.000000e+00\n",
      "RdMWIgZIPD8    0.000000e+00\n",
      "JWAvRIpuj1U    0.000000e+00\n",
      "cJzOUbYrQiY    0.000000e+00\n",
      "A_Z3AokMwWI    0.000000e+00\n",
      "                   ...     \n",
      "FlsCjmMhFmw    2.889966e+06\n",
      "kLpH1nSLJSs    2.957023e+06\n",
      "xpVfcZ0ZcFM    3.689635e+06\n",
      "VYOjWnS4cMY    4.122446e+06\n",
      "7C2z4GqqS5E    5.131076e+06\n",
      "Name: likes, Length: 3272, dtype: float64\n"
     ]
    }
   ],
   "source": [
    "#Katagoriye göre yorum sıralamasını yukardan aşağıya doğru yap.\n",
    "result = df.groupby(\"video_id\").mean().sort_values(\"likes\")[\"likes\"]\n",
    "print(result)"
   ]
  },
  {
   "cell_type": "code",
   "execution_count": 13,
   "metadata": {},
   "outputs": [
    {
     "name": "stdout",
     "output_type": "stream",
     "text": [
      "Il-an3K9pjg    38\n",
      "u_C4onVrr8U    38\n",
      "BhIEIO0vaBE    38\n",
      "2z3EUY1aXdY    38\n",
      "NooW_RbfdWI    38\n",
      "               ..\n",
      "fZB-ptAnoQc     1\n",
      "bJ-wMCV05EI     1\n",
      "Qn4ctBaNI00     1\n",
      "5SkwvwSydmk     1\n",
      "Tl_Qfj8780M     1\n",
      "Name: video_id, Length: 3272, dtype: int64\n"
     ]
    }
   ],
   "source": [
    "#Her katagoride kaç kişi var?\n",
    "result = df[\"video_id\"].value_counts()\n",
    "print(result)"
   ]
  },
  {
   "cell_type": "code",
   "execution_count": 14,
   "metadata": {},
   "outputs": [
    {
     "name": "stdout",
     "output_type": "stream",
     "text": [
      "[55681, 25561, 787420, 193, 30] [10247, 2294, 43420, 12, 2]\n"
     ]
    }
   ],
   "source": [
    "#En popüler videoları lisetleyiniz.\n",
    "\n",
    "likeslist = list(df[\"likes\"].head())\n",
    "dislikeslist = list(df[\"dislikes\"].head())\n",
    "print(likeslist,dislikeslist)"
   ]
  }
 ],
 "metadata": {
  "kernelspec": {
   "display_name": "Python 3",
   "language": "python",
   "name": "python3"
  },
  "language_info": {
   "codemirror_mode": {
    "name": "ipython",
    "version": 3
   },
   "file_extension": ".py",
   "mimetype": "text/x-python",
   "name": "python",
   "nbconvert_exporter": "python",
   "pygments_lexer": "ipython3",
   "version": "3.8.5"
  }
 },
 "nbformat": 4,
 "nbformat_minor": 4
}

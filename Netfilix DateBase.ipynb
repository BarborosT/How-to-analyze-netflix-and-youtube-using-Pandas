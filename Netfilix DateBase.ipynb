{
 "cells": [
  {
   "cell_type": "code",
   "execution_count": 1,
   "metadata": {},
   "outputs": [
    {
     "name": "stdout",
     "output_type": "stream",
     "text": [
      "     show_id     type                                    title  \\\n",
      "0         s1  TV Show                                       3%   \n",
      "1         s2    Movie                                     7:19   \n",
      "2         s3    Movie                                    23:59   \n",
      "3         s4    Movie                                        9   \n",
      "4         s5    Movie                                       21   \n",
      "...      ...      ...                                      ...   \n",
      "7782   s7783    Movie                                     Zozo   \n",
      "7783   s7784    Movie                                   Zubaan   \n",
      "7784   s7785    Movie                        Zulu Man in Japan   \n",
      "7785   s7786  TV Show                    Zumbo's Just Desserts   \n",
      "7786   s7787    Movie  ZZ TOP: THAT LITTLE OL' BAND FROM TEXAS   \n",
      "\n",
      "               director                                               cast  \\\n",
      "0                   NaN  João Miguel, Bianca Comparato, Michel Gomes, R...   \n",
      "1     Jorge Michel Grau  Demián Bichir, Héctor Bonilla, Oscar Serrano, ...   \n",
      "2          Gilbert Chan  Tedd Chan, Stella Chung, Henley Hii, Lawrence ...   \n",
      "3           Shane Acker  Elijah Wood, John C. Reilly, Jennifer Connelly...   \n",
      "4        Robert Luketic  Jim Sturgess, Kevin Spacey, Kate Bosworth, Aar...   \n",
      "...                 ...                                                ...   \n",
      "7782        Josef Fares  Imad Creidi, Antoinette Turk, Elias Gergi, Car...   \n",
      "7783        Mozez Singh  Vicky Kaushal, Sarah-Jane Dias, Raaghav Chanan...   \n",
      "7784                NaN                                            Nasty C   \n",
      "7785                NaN                         Adriano Zumbo, Rachel Khoo   \n",
      "7786           Sam Dunn                                                NaN   \n",
      "\n",
      "                                                country          date_added  \\\n",
      "0                                                Brazil     August 14, 2020   \n",
      "1                                                Mexico   December 23, 2016   \n",
      "2                                             Singapore   December 20, 2018   \n",
      "3                                         United States   November 16, 2017   \n",
      "4                                         United States     January 1, 2020   \n",
      "...                                                 ...                 ...   \n",
      "7782  Sweden, Czech Republic, United Kingdom, Denmar...    October 19, 2020   \n",
      "7783                                              India       March 2, 2019   \n",
      "7784                                                NaN  September 25, 2020   \n",
      "7785                                          Australia    October 31, 2020   \n",
      "7786              United Kingdom, Canada, United States       March 1, 2020   \n",
      "\n",
      "      release_year rating   duration  \\\n",
      "0             2020  TV-MA  4 Seasons   \n",
      "1             2016  TV-MA     93 min   \n",
      "2             2011      R     78 min   \n",
      "3             2009  PG-13     80 min   \n",
      "4             2008  PG-13    123 min   \n",
      "...            ...    ...        ...   \n",
      "7782          2005  TV-MA     99 min   \n",
      "7783          2015  TV-14    111 min   \n",
      "7784          2019  TV-MA     44 min   \n",
      "7785          2019  TV-PG   1 Season   \n",
      "7786          2019  TV-MA     90 min   \n",
      "\n",
      "                                              listed_in  \\\n",
      "0     International TV Shows, TV Dramas, TV Sci-Fi &...   \n",
      "1                          Dramas, International Movies   \n",
      "2                   Horror Movies, International Movies   \n",
      "3     Action & Adventure, Independent Movies, Sci-Fi...   \n",
      "4                                                Dramas   \n",
      "...                                                 ...   \n",
      "7782                       Dramas, International Movies   \n",
      "7783     Dramas, International Movies, Music & Musicals   \n",
      "7784  Documentaries, International Movies, Music & M...   \n",
      "7785                 International TV Shows, Reality TV   \n",
      "7786                    Documentaries, Music & Musicals   \n",
      "\n",
      "                                            description  \n",
      "0     In a future where the elite inhabit an island ...  \n",
      "1     After a devastating earthquake hits Mexico Cit...  \n",
      "2     When an army recruit is found dead, his fellow...  \n",
      "3     In a postapocalyptic world, rag-doll robots hi...  \n",
      "4     A brilliant group of students become card-coun...  \n",
      "...                                                 ...  \n",
      "7782  When Lebanon's Civil War deprives Zozo of his ...  \n",
      "7783  A scrappy but poor boy worms his way into a ty...  \n",
      "7784  In this documentary, South African rapper Nast...  \n",
      "7785  Dessert wizard Adriano Zumbo looks for the nex...  \n",
      "7786  This documentary delves into the mystique behi...  \n",
      "\n",
      "[7787 rows x 12 columns]\n"
     ]
    }
   ],
   "source": [
    "import pandas as pd\n",
    "\n",
    "data = pd.read_csv(\"netfilix.csv\")\n",
    "df = pd.DataFrame(data)\n",
    "result = df\n",
    "\n",
    "print(result)"
   ]
  },
  {
   "cell_type": "code",
   "execution_count": 2,
   "metadata": {},
   "outputs": [
    {
     "name": "stdout",
     "output_type": "stream",
     "text": [
      "<class 'pandas.core.frame.DataFrame'>\n",
      "RangeIndex: 7787 entries, 0 to 7786\n",
      "Data columns (total 12 columns):\n",
      " #   Column        Non-Null Count  Dtype \n",
      "---  ------        --------------  ----- \n",
      " 0   show_id       7787 non-null   object\n",
      " 1   type          7787 non-null   object\n",
      " 2   title         7787 non-null   object\n",
      " 3   director      5398 non-null   object\n",
      " 4   cast          7069 non-null   object\n",
      " 5   country       7280 non-null   object\n",
      " 6   date_added    7777 non-null   object\n",
      " 7   release_year  7787 non-null   int64 \n",
      " 8   rating        7780 non-null   object\n",
      " 9   duration      7787 non-null   object\n",
      " 10  listed_in     7787 non-null   object\n",
      " 11  description   7787 non-null   object\n",
      "dtypes: int64(1), object(11)\n",
      "memory usage: 730.2+ KB\n",
      "\n"
     ]
    }
   ],
   "source": [
    "result=df.info()\n",
    "print()"
   ]
  },
  {
   "cell_type": "code",
   "execution_count": 7,
   "metadata": {},
   "outputs": [
    {
     "name": "stdout",
     "output_type": "stream",
     "text": [
      "     show_id     type                                    title     director  \\\n",
      "7782   s7783    Movie                                     Zozo  Josef Fares   \n",
      "7783   s7784    Movie                                   Zubaan  Mozez Singh   \n",
      "7784   s7785    Movie                        Zulu Man in Japan          NaN   \n",
      "7785   s7786  TV Show                    Zumbo's Just Desserts          NaN   \n",
      "7786   s7787    Movie  ZZ TOP: THAT LITTLE OL' BAND FROM TEXAS     Sam Dunn   \n",
      "\n",
      "                                                   cast  \\\n",
      "7782  Imad Creidi, Antoinette Turk, Elias Gergi, Car...   \n",
      "7783  Vicky Kaushal, Sarah-Jane Dias, Raaghav Chanan...   \n",
      "7784                                            Nasty C   \n",
      "7785                         Adriano Zumbo, Rachel Khoo   \n",
      "7786                                                NaN   \n",
      "\n",
      "                                                country          date_added  \\\n",
      "7782  Sweden, Czech Republic, United Kingdom, Denmar...    October 19, 2020   \n",
      "7783                                              India       March 2, 2019   \n",
      "7784                                                NaN  September 25, 2020   \n",
      "7785                                          Australia    October 31, 2020   \n",
      "7786              United Kingdom, Canada, United States       March 1, 2020   \n",
      "\n",
      "      release_year rating  duration  \\\n",
      "7782          2005  TV-MA    99 min   \n",
      "7783          2015  TV-14   111 min   \n",
      "7784          2019  TV-MA    44 min   \n",
      "7785          2019  TV-PG  1 Season   \n",
      "7786          2019  TV-MA    90 min   \n",
      "\n",
      "                                              listed_in  \\\n",
      "7782                       Dramas, International Movies   \n",
      "7783     Dramas, International Movies, Music & Musicals   \n",
      "7784  Documentaries, International Movies, Music & M...   \n",
      "7785                 International TV Shows, Reality TV   \n",
      "7786                    Documentaries, Music & Musicals   \n",
      "\n",
      "                                            description  \n",
      "7782  When Lebanon's Civil War deprives Zozo of his ...  \n",
      "7783  A scrappy but poor boy worms his way into a ty...  \n",
      "7784  In this documentary, South African rapper Nast...  \n",
      "7785  Dessert wizard Adriano Zumbo looks for the nex...  \n",
      "7786  This documentary delves into the mystique behi...  \n"
     ]
    }
   ],
   "source": [
    "result=df.tail()\n",
    "print(result)"
   ]
  },
  {
   "cell_type": "code",
   "execution_count": 8,
   "metadata": {},
   "outputs": [
    {
     "name": "stdout",
     "output_type": "stream",
     "text": [
      "  show_id     type  title           director  \\\n",
      "0      s1  TV Show     3%                NaN   \n",
      "1      s2    Movie   7:19  Jorge Michel Grau   \n",
      "2      s3    Movie  23:59       Gilbert Chan   \n",
      "3      s4    Movie      9        Shane Acker   \n",
      "\n",
      "                                                cast        country  \\\n",
      "0  João Miguel, Bianca Comparato, Michel Gomes, R...         Brazil   \n",
      "1  Demián Bichir, Héctor Bonilla, Oscar Serrano, ...         Mexico   \n",
      "2  Tedd Chan, Stella Chung, Henley Hii, Lawrence ...      Singapore   \n",
      "3  Elijah Wood, John C. Reilly, Jennifer Connelly...  United States   \n",
      "\n",
      "          date_added  release_year rating   duration  \\\n",
      "0    August 14, 2020          2020  TV-MA  4 Seasons   \n",
      "1  December 23, 2016          2016  TV-MA     93 min   \n",
      "2  December 20, 2018          2011      R     78 min   \n",
      "3  November 16, 2017          2009  PG-13     80 min   \n",
      "\n",
      "                                           listed_in  \\\n",
      "0  International TV Shows, TV Dramas, TV Sci-Fi &...   \n",
      "1                       Dramas, International Movies   \n",
      "2                Horror Movies, International Movies   \n",
      "3  Action & Adventure, Independent Movies, Sci-Fi...   \n",
      "\n",
      "                                         description  \n",
      "0  In a future where the elite inhabit an island ...  \n",
      "1  After a devastating earthquake hits Mexico Cit...  \n",
      "2  When an army recruit is found dead, his fellow...  \n",
      "3  In a postapocalyptic world, rag-doll robots hi...  \n"
     ]
    }
   ],
   "source": [
    "result=df.head(4)\n",
    "print(result)"
   ]
  },
  {
   "cell_type": "code",
   "execution_count": 10,
   "metadata": {},
   "outputs": [
    {
     "name": "stdout",
     "output_type": "stream",
     "text": [
      "0       3%\n",
      "1     7:19\n",
      "2    23:59\n",
      "3        9\n",
      "4       21\n",
      "Name: title, dtype: object\n"
     ]
    }
   ],
   "source": [
    "result=df[\"title\"].head()  #il 4 tane filmin ismi \n",
    "print(result)"
   ]
  },
  {
   "cell_type": "markdown",
   "metadata": {},
   "source": [
    "result=df[5:][[\"title\",\"director\"]].head()\n",
    "print(result)"
   ]
  },
  {
   "cell_type": "code",
   "execution_count": 15,
   "metadata": {},
   "outputs": [
    {
     "name": "stdout",
     "output_type": "stream",
     "text": [
      "   title           director\n",
      "0     3%                NaN\n",
      "1   7:19  Jorge Michel Grau\n",
      "2  23:59       Gilbert Chan\n",
      "3      9        Shane Acker\n",
      "4     21     Robert Luketic\n",
      "5     46        Serdar Akar\n",
      "6    122    Yasir Al Yasiri\n",
      "7    187     Kevin Reynolds\n"
     ]
    }
   ],
   "source": [
    "result=df[[\"title\",\"director\"]].head(8)\n",
    "print(result)"
   ]
  },
  {
   "cell_type": "code",
   "execution_count": 25,
   "metadata": {},
   "outputs": [
    {
     "name": "stdout",
     "output_type": "stream",
     "text": [
      "     show_id     type                                    title  \\\n",
      "5         s6  TV Show                                       46   \n",
      "6         s7    Movie                                      122   \n",
      "7         s8    Movie                                      187   \n",
      "8         s9    Movie                                      706   \n",
      "50       s51    Movie                              10,000 B.C.   \n",
      "...      ...      ...                                      ...   \n",
      "7782   s7783    Movie                                     Zozo   \n",
      "7783   s7784    Movie                                   Zubaan   \n",
      "7784   s7785    Movie                        Zulu Man in Japan   \n",
      "7785   s7786  TV Show                    Zumbo's Just Desserts   \n",
      "7786   s7787    Movie  ZZ TOP: THAT LITTLE OL' BAND FROM TEXAS   \n",
      "\n",
      "             director                                               cast  \\\n",
      "5         Serdar Akar  Erdal Beşikçioğlu, Yasemin Allen, Melis Birkan...   \n",
      "6     Yasir Al Yasiri  Amina Khalil, Ahmed Dawood, Tarek Lotfy, Ahmed...   \n",
      "7      Kevin Reynolds  Samuel L. Jackson, John Heard, Kelly Rowan, Cl...   \n",
      "8       Shravan Kumar  Divya Dutta, Atul Kulkarni, Mohan Agashe, Anup...   \n",
      "50    Roland Emmerich  Steven Strait, Camilla Belle, Cliff Curtis, Jo...   \n",
      "...               ...                                                ...   \n",
      "7782      Josef Fares  Imad Creidi, Antoinette Turk, Elias Gergi, Car...   \n",
      "7783      Mozez Singh  Vicky Kaushal, Sarah-Jane Dias, Raaghav Chanan...   \n",
      "7784              NaN                                            Nasty C   \n",
      "7785              NaN                         Adriano Zumbo, Rachel Khoo   \n",
      "7786         Sam Dunn                                                NaN   \n",
      "\n",
      "                                                country          date_added  \\\n",
      "5                                                Turkey        July 1, 2017   \n",
      "6                                                 Egypt        June 1, 2020   \n",
      "7                                         United States    November 1, 2019   \n",
      "8                                                 India       April 1, 2019   \n",
      "50                          United States, South Africa        June 1, 2019   \n",
      "...                                                 ...                 ...   \n",
      "7782  Sweden, Czech Republic, United Kingdom, Denmar...    October 19, 2020   \n",
      "7783                                              India       March 2, 2019   \n",
      "7784                                                NaN  September 25, 2020   \n",
      "7785                                          Australia    October 31, 2020   \n",
      "7786              United Kingdom, Canada, United States       March 1, 2020   \n",
      "\n",
      "      release_year rating  duration  \\\n",
      "5             2016  TV-MA  1 Season   \n",
      "6             2019  TV-MA    95 min   \n",
      "7             1997      R   119 min   \n",
      "8             2019  TV-14   118 min   \n",
      "50            2008  PG-13   109 min   \n",
      "...            ...    ...       ...   \n",
      "7782          2005  TV-MA    99 min   \n",
      "7783          2015  TV-14   111 min   \n",
      "7784          2019  TV-MA    44 min   \n",
      "7785          2019  TV-PG  1 Season   \n",
      "7786          2019  TV-MA    90 min   \n",
      "\n",
      "                                              listed_in  \\\n",
      "5       International TV Shows, TV Dramas, TV Mysteries   \n",
      "6                   Horror Movies, International Movies   \n",
      "7                                                Dramas   \n",
      "8                   Horror Movies, International Movies   \n",
      "50                                   Action & Adventure   \n",
      "...                                                 ...   \n",
      "7782                       Dramas, International Movies   \n",
      "7783     Dramas, International Movies, Music & Musicals   \n",
      "7784  Documentaries, International Movies, Music & M...   \n",
      "7785                 International TV Shows, Reality TV   \n",
      "7786                    Documentaries, Music & Musicals   \n",
      "\n",
      "                                            description  \n",
      "5     A genetics professor experiments with a treatm...  \n",
      "6     After an awful accident, a couple admitted to ...  \n",
      "7     After one of his high school students attacks ...  \n",
      "8     When a doctor goes missing, his psychiatrist w...  \n",
      "50    Fierce mammoth hunter D'Leh sets out on an imp...  \n",
      "...                                                 ...  \n",
      "7782  When Lebanon's Civil War deprives Zozo of his ...  \n",
      "7783  A scrappy but poor boy worms his way into a ty...  \n",
      "7784  In this documentary, South African rapper Nast...  \n",
      "7785  Dessert wizard Adriano Zumbo looks for the nex...  \n",
      "7786  This documentary delves into the mystique behi...  \n",
      "\n",
      "[3341 rows x 12 columns]\n"
     ]
    }
   ],
   "source": [
    "result2 =df[df[\"show_id\"] > 's50']\n",
    "print(result2)"
   ]
  },
  {
   "cell_type": "code",
   "execution_count": 26,
   "metadata": {},
   "outputs": [
    {
     "name": "stdout",
     "output_type": "stream",
     "text": [
      "Index(['show_id', 'type', 'title', 'director', 'cast', 'country', 'date_added',\n",
      "       'release_year', 'rating', 'duration', 'listed_in', 'description'],\n",
      "      dtype='object')\n"
     ]
    }
   ],
   "source": [
    "result = df.columns\n",
    "print(result)"
   ]
  }
 ],
 "metadata": {
  "kernelspec": {
   "display_name": "Python 3",
   "language": "python",
   "name": "python3"
  },
  "language_info": {
   "codemirror_mode": {
    "name": "ipython",
    "version": 3
   },
   "file_extension": ".py",
   "mimetype": "text/x-python",
   "name": "python",
   "nbconvert_exporter": "python",
   "pygments_lexer": "ipython3",
   "version": "3.8.5"
  }
 },
 "nbformat": 4,
 "nbformat_minor": 4
}
